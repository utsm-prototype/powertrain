{
 "cells": [
  {
   "cell_type": "markdown",
   "metadata": {},
   "source": [
    "# UTSM Prototype Powertrain Debug Notebook\n",
    "\n",
    "### Current Powertrain Information\n",
    "\n",
    "**Motor:** T-Motor U10 KV100 [Manufacturer Docuentation](https://store.tmotor.com/goods-361-U10+KV100.html?srsltid=AfmBOoqiv_vR-dWMgI1-_WbT1bbBy83fzjXSxKheIYDMxgU6xqobS5Dw)\n",
    "\n",
    "**Encoders:** Same Sky (formerly CUI Devices) AMT312S-V [Datasheet](https://www.cuidevices.com/product/resource/digikeypdf/amt31.pdf)\n",
    "* We use two, offset from each other by 60°\n",
    "* Cable: AMT-17C-1-036 [datasheet](https://www.cuidevices.com/product/resource/digikeypdf/amt-17c-1-036.pdf)\n",
    "\n",
    "**Controller Source Architecture**: Duke EasyController 3 [Project GitHub](https://github.com/pgrady3/EasyController3)"
   ]
  },
  {
   "cell_type": "markdown",
   "metadata": {},
   "source": [
    "## Debug Logs\n",
    "This section is just for general logs about debugging. Please writedown things tried, what worked, didn't work, issues, etc.\n",
    "\n",
    "*Log Template: Most Recent Should Be First*\n",
    "\n",
    "To duplicate click ... then \"copy cell down\" "
   ]
  },
  {
   "cell_type": "markdown",
   "metadata": {},
   "source": [
    "**Date:** 2025-MM-DD\n",
    "\n",
    "**Issue:** Issue Name\n",
    "\n",
    "**Name(s):** Names\n",
    "\n",
    "**Debug Notes:** *insert debug log notes below*\n",
    "* \n",
    "\n"
   ]
  },
  {
   "cell_type": "markdown",
   "metadata": {},
   "source": [
    "**Date:** 2025-02-12\n",
    "\n",
    "**Issue:** Phase Order Identification\n",
    "\n",
    "**Name(s):** Maunder\n",
    "\n",
    "**Debug Notes:** *insert debug log notes below*\n",
    "* Used oscilloscope to determine if phase order on motor was correct. Hooked up probe to each of the three motor phases to check order. Should have used common reference since all were very noisy signals --> can probs use earth ground for future.\n",
    "* To find order once all hooked up, spin motor manually by hand and watch the phase diagrams. The order should become clear. Found out that wires coming out of motor are not ABC but ACB.\n",
    "* Spun the motor in the direction I wanted it to spin on the actual car.\n",
    "* Added new labels to indicate correct order.\n",
    "* Explains why motor was only working when we connected the wires in a wrong orientation."
   ]
  }
 ],
 "metadata": {
  "language_info": {
   "name": "python"
  }
 },
 "nbformat": 4,
 "nbformat_minor": 2
}
