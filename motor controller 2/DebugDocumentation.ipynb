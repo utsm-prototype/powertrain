{
 "cells": [
  {
   "cell_type": "markdown",
   "metadata": {},
   "source": [
    "# UTSM Prototype Powertrain Debug Notebook\n",
    "\n",
    "### Current Powertrain Information\n",
    "\n",
    "**Motor:** T-Motor U10 KV100 [Manufacturer Docuentation](https://store.tmotor.com/goods-361-U10+KV100.html?srsltid=AfmBOoqiv_vR-dWMgI1-_WbT1bbBy83fzjXSxKheIYDMxgU6xqobS5Dw)\n",
    "\n",
    "**Controller Source Architecture**: Duke EasyController 3 [Project GitHub](https://github.com/pgrady3/EasyController3)"
   ]
  }
 ],
 "metadata": {
  "language_info": {
   "name": "python"
  }
 },
 "nbformat": 4,
 "nbformat_minor": 2
}
